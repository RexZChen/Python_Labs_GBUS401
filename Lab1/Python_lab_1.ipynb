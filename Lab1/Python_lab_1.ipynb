{
 "cells": [
  {
   "cell_type": "markdown",
   "metadata": {},
   "source": [
    "# Python Lab1: Fundamentals"
   ]
  },
  {
   "cell_type": "markdown",
   "metadata": {},
   "source": [
    "###### Some comments and examples are from https://www.w3schools.com/python/default.asp"
   ]
  },
  {
   "cell_type": "markdown",
   "metadata": {},
   "source": [
    "## 1. Intro"
   ]
  },
  {
   "cell_type": "code",
   "execution_count": 1,
   "metadata": {},
   "outputs": [
    {
     "name": "stdout",
     "output_type": "stream",
     "text": [
      "hello world!\n"
     ]
    }
   ],
   "source": [
    "# When I began to learn some programming language,\n",
    "''' I always start at writing \"Hello World\" '''\n",
    "\n",
    "print(\"hello world!\")"
   ]
  },
  {
   "cell_type": "markdown",
   "metadata": {},
   "source": [
    "### 1.1 Whitespaces and new lines"
   ]
  },
  {
   "cell_type": "code",
   "execution_count": 1,
   "metadata": {},
   "outputs": [
    {
     "name": "stdout",
     "output_type": "stream",
     "text": [
      "five is bigger than two!\n"
     ]
    }
   ],
   "source": [
    "# Python relies on indentation to define scope and Python uses new lines to complete a command.\n",
    "\n",
    "if 5 > 2:\n",
    "    print(\"five is bigger than two!\")\n",
    "else:\n",
    "    print(\"five is smaller or equal to two!\")\n",
    "    \n",
    "# Feel free to use 'Tab' all the time, although in different IDEs, \n",
    "# the actual number of whitespaces might differ by tapping 'Tab'."
   ]
  },
  {
   "cell_type": "markdown",
   "metadata": {},
   "source": [
    "## 2. Variables"
   ]
  },
  {
   "cell_type": "code",
   "execution_count": 4,
   "metadata": {},
   "outputs": [
    {
     "name": "stdout",
     "output_type": "stream",
     "text": [
      "5\n",
      "Go Hoyas!\n"
     ]
    }
   ],
   "source": [
    "a = 5\n",
    "b = \"Go\"\n",
    "c = 'Hoyas'\n",
    "\n",
    "print(a)\n",
    "print(b + \" \" + c + '!')\n",
    "\n",
    "# Single or double quotes are the same while declaring variables"
   ]
  },
  {
   "cell_type": "markdown",
   "metadata": {},
   "source": [
    "### 2.1 Name rules"
   ]
  },
  {
   "cell_type": "code",
   "execution_count": 102,
   "metadata": {},
   "outputs": [],
   "source": [
    "# 1. A variable name must start with a letter or the underscore character\n",
    "# 2. A variable name cannot start with a number\n",
    "# 3. A variable name can only contain alpha-numeric characters and underscores (A-z, 0-9, and _ )\n",
    "# 4. Variable names are case-sensitive (age, Age and AGE are three different variables)\n",
    "\n",
    "## Legal Name Examples:\n",
    "myvar = \"John\"\n",
    "my_var = \"John\"\n",
    "_my_var = \"John\"\n",
    "myVar = \"John\"\n",
    "MYVAR = \"John\"\n",
    "myvar2 = \"John\"\n",
    "\n",
    "## Illegal Name Exaples:\n",
    "2myvar = \"John\"\n",
    "my-var = \"John\"\n",
    "my var = \"John\""
   ]
  },
  {
   "cell_type": "markdown",
   "metadata": {},
   "source": [
    "### 2.2 Variable types"
   ]
  },
  {
   "cell_type": "code",
   "execution_count": 5,
   "metadata": {},
   "outputs": [
    {
     "name": "stdout",
     "output_type": "stream",
     "text": [
      "3 3.0 3\n"
     ]
    }
   ],
   "source": [
    "a, b, c = int(3), float(3), str(3)  \n",
    "\n",
    "# a should be an integer 3\n",
    "# b should be a float 3.0\n",
    "# c should be a string '3'\n",
    "print(a, b, c)"
   ]
  },
  {
   "cell_type": "code",
   "execution_count": 17,
   "metadata": {},
   "outputs": [
    {
     "name": "stdout",
     "output_type": "stream",
     "text": [
      "<class 'int'> <class 'float'> <class 'str'>\n"
     ]
    }
   ],
   "source": [
    "# You can always use type() function to see the variable type\n",
    "\n",
    "print(type(a), \n",
    "      type(b), \n",
    "      type(c))"
   ]
  },
  {
   "cell_type": "code",
   "execution_count": 6,
   "metadata": {},
   "outputs": [
    {
     "name": "stdout",
     "output_type": "stream",
     "text": [
      "<class 'str'>\n"
     ]
    }
   ],
   "source": [
    "# Also you can cast one type to another if compatible.\n",
    "\n",
    "a = str(a)\n",
    "print(type(a))"
   ]
  },
  {
   "cell_type": "code",
   "execution_count": 19,
   "metadata": {},
   "outputs": [],
   "source": [
    "# Python has following built-in data types:\n",
    "# Text Type:\tstr\n",
    "# Numeric Types:\tint, float, complex\n",
    "# Sequence Types:\tlist, tuple, range\n",
    "# Mapping Type:\tdict\n",
    "# Set Types:\tset, frozenset\n",
    "# Boolean Type:\tbool\n",
    "# Binary Types:\tbytes, bytearray, memoryview"
   ]
  },
  {
   "cell_type": "markdown",
   "metadata": {},
   "source": [
    "### 2.3 Python Numbers"
   ]
  },
  {
   "cell_type": "code",
   "execution_count": 7,
   "metadata": {},
   "outputs": [
    {
     "name": "stdout",
     "output_type": "stream",
     "text": [
      "<class 'int'>\n",
      "<class 'float'>\n",
      "<class 'complex'>\n"
     ]
    }
   ],
   "source": [
    "# There are three numeric types in Python: int, float, complex\n",
    "\n",
    "x = 1    # int\n",
    "y = 2.8  # float\n",
    "z = 1j   # complex\n",
    "\n",
    "print(type(x))\n",
    "print(type(y))\n",
    "print(type(z))"
   ]
  },
  {
   "cell_type": "code",
   "execution_count": 8,
   "metadata": {},
   "outputs": [
    {
     "name": "stdout",
     "output_type": "stream",
     "text": [
      "<class 'int'>\n",
      "<class 'int'>\n",
      "<class 'int'>\n"
     ]
    }
   ],
   "source": [
    "# Int\n",
    "x = 1\n",
    "y = 35656222554887711\n",
    "z = -3255522\n",
    "\n",
    "print(type(x))\n",
    "print(type(y))\n",
    "print(type(z))"
   ]
  },
  {
   "cell_type": "code",
   "execution_count": 9,
   "metadata": {},
   "outputs": [
    {
     "name": "stdout",
     "output_type": "stream",
     "text": [
      "<class 'float'>\n",
      "<class 'float'>\n",
      "<class 'float'>\n"
     ]
    }
   ],
   "source": [
    "# Float\n",
    "x = 1.10\n",
    "y = 1.0\n",
    "z = -35.59\n",
    "\n",
    "print(type(x))\n",
    "print(type(y))\n",
    "print(type(z))"
   ]
  },
  {
   "cell_type": "code",
   "execution_count": 10,
   "metadata": {},
   "outputs": [
    {
     "name": "stdout",
     "output_type": "stream",
     "text": [
      "<class 'float'>\n",
      "<class 'float'>\n",
      "<class 'float'>\n"
     ]
    }
   ],
   "source": [
    "# Float can also be scientific numbers with an \"e\" to indicate the power of 10.\n",
    "x = 35e3\n",
    "y = 12E4\n",
    "z = -87.7e100\n",
    "\n",
    "print(type(x))\n",
    "print(type(y))\n",
    "print(type(z))"
   ]
  },
  {
   "cell_type": "markdown",
   "metadata": {},
   "source": [
    "### 2.4 Python Strings"
   ]
  },
  {
   "cell_type": "code",
   "execution_count": 17,
   "metadata": {},
   "outputs": [
    {
     "name": "stdout",
     "output_type": "stream",
     "text": [
      "26\n",
      "<class 'str'>\n"
     ]
    }
   ],
   "source": [
    "a = \"Every hoya everywhere 2021\"\n",
    "print(len(a))\n",
    "print(type(a))"
   ]
  },
  {
   "cell_type": "code",
   "execution_count": 20,
   "metadata": {
    "scrolled": true
   },
   "outputs": [
    {
     "name": "stdout",
     "output_type": "stream",
     "text": [
      "['Every', 'hoya', 'everywhere', '2021']\n"
     ]
    }
   ],
   "source": [
    "# Split a string\n",
    "splitted_a = a.split(\" \")\n",
    "print(splitted_a)"
   ]
  },
  {
   "cell_type": "code",
   "execution_count": 23,
   "metadata": {
    "scrolled": true
   },
   "outputs": [
    {
     "name": "stdout",
     "output_type": "stream",
     "text": [
      "0 E\n",
      "1 v\n",
      "2 e\n",
      "3 r\n",
      "4 y\n",
      "5  \n",
      "6 h\n",
      "7 o\n",
      "8 y\n",
      "9 a\n",
      "10  \n",
      "11 e\n",
      "12 v\n",
      "13 e\n",
      "14 r\n",
      "15 y\n",
      "16 w\n",
      "17 h\n",
      "18 e\n",
      "19 r\n",
      "20 e\n",
      "21  \n",
      "22 2\n",
      "23 0\n",
      "24 2\n",
      "25 1\n"
     ]
    }
   ],
   "source": [
    "for idx,char in enumerate(a):\n",
    "    print(idx, char)"
   ]
  },
  {
   "cell_type": "code",
   "execution_count": 25,
   "metadata": {},
   "outputs": [
    {
     "name": "stdout",
     "output_type": "stream",
     "text": [
      "Every hoya everywhere 20\n"
     ]
    }
   ],
   "source": [
    "# Slicing a string\n",
    "sliced_a = a[1:3] # starting at the first index(inclusive), ending at the third index(exclusive); index from 0!\n",
    "sliced_a = a[:5]  # ending(exclusive) at the fifth index\n",
    "sliced_a = a[2:]  # strating(inclusive) from the second one until the end\n",
    "sliced_a = a[:-2] # I dont know how long a is, but I have to end at the second last index\n",
    "\n",
    "print(sliced_a)"
   ]
  },
  {
   "cell_type": "code",
   "execution_count": 26,
   "metadata": {},
   "outputs": [
    {
     "name": "stdout",
     "output_type": "stream",
     "text": [
      "Every,hoya,everywhere,2021\n"
     ]
    }
   ],
   "source": [
    "# Replacing some characters\n",
    "replaced_a = a.replace(\" \", ',')\n",
    "\n",
    "print(replaced_a)\n",
    "\n",
    "# There are lots of built-in functions for strings, check them on\n",
    "# https://docs.python.org/3/\n",
    "# https://www.w3schools.com/python/default.asp"
   ]
  },
  {
   "cell_type": "markdown",
   "metadata": {},
   "source": [
    "### 2.5 Python Booleans"
   ]
  },
  {
   "cell_type": "code",
   "execution_count": 37,
   "metadata": {},
   "outputs": [
    {
     "name": "stdout",
     "output_type": "stream",
     "text": [
      "True\n",
      "False\n",
      "True\n"
     ]
    }
   ],
   "source": [
    "# Simply True or False\n",
    "\n",
    "a = 5 > 2\n",
    "print(a)\n",
    "\n",
    "b = 5 < 2\n",
    "print(b)\n",
    "\n",
    "c = 10 == 10\n",
    "print(c)\n",
    "\n",
    "# In Python single equal mark \"=\" is used to assign\n",
    "# Double equal mark \"==\" is used to compare"
   ]
  },
  {
   "cell_type": "markdown",
   "metadata": {},
   "source": [
    "## 3. Lists, Tuples, Dicts"
   ]
  },
  {
   "cell_type": "markdown",
   "metadata": {},
   "source": [
    "### 3.1 Python List"
   ]
  },
  {
   "cell_type": "code",
   "execution_count": 27,
   "metadata": {},
   "outputs": [
    {
     "name": "stdout",
     "output_type": "stream",
     "text": [
      "3\n",
      "[3, '3', 3.0]\n"
     ]
    }
   ],
   "source": [
    "# A Python list can contain different types of variables\n",
    "list_a = []\n",
    "\n",
    "list_a.append(int(3))\n",
    "list_a.append(str(3))\n",
    "list_a.append(float(3))\n",
    "\n",
    "print(len(list_a))\n",
    "print(list_a)"
   ]
  },
  {
   "cell_type": "code",
   "execution_count": 28,
   "metadata": {},
   "outputs": [
    {
     "name": "stdout",
     "output_type": "stream",
     "text": [
      "[4, 3, '3', 3.0]\n",
      "[4, 3, '3']\n"
     ]
    }
   ],
   "source": [
    "# Slicing is quite similar to Python Strings\n",
    "# Other functions like pop(), insert() can also change the list\n",
    "\n",
    "list_a.insert(0, int(4)) # insert int(4) as the zero index\n",
    "print(list_a)\n",
    "\n",
    "list_a.pop() # delete the last one\n",
    "print(list_a)"
   ]
  },
  {
   "cell_type": "markdown",
   "metadata": {},
   "source": [
    "### 3.2 Python Tuples"
   ]
  },
  {
   "cell_type": "code",
   "execution_count": 29,
   "metadata": {},
   "outputs": [
    {
     "name": "stdout",
     "output_type": "stream",
     "text": [
      "('a', 'b', 'c')\n"
     ]
    }
   ],
   "source": [
    "# Python Tuples are ORDERED and UNCHANGEABLE\n",
    "tuple_a = (\"a\", \"b\", \"c\")\n",
    "\n",
    "print(tuple_a)"
   ]
  },
  {
   "cell_type": "code",
   "execution_count": 45,
   "metadata": {},
   "outputs": [],
   "source": [
    "# What if I want to change the tuple?\n",
    "# We can change the tuple into list then do what you want\n",
    "\n",
    "tuple_a = list(tuple_a)\n",
    "## your operations\n",
    "tuple_a = tuple(tuple_a)"
   ]
  },
  {
   "cell_type": "markdown",
   "metadata": {},
   "source": [
    "### 3.3 Python Dicts"
   ]
  },
  {
   "cell_type": "code",
   "execution_count": 31,
   "metadata": {},
   "outputs": [],
   "source": [
    "# Also known as hash map or hash table\n",
    "dict_a  = {\n",
    "    'name':'BMW',\n",
    "    'model':'330',\n",
    "    'year':'2012'\n",
    "}\n",
    "# dict_a = dict()"
   ]
  },
  {
   "cell_type": "code",
   "execution_count": 32,
   "metadata": {},
   "outputs": [
    {
     "name": "stdout",
     "output_type": "stream",
     "text": [
      "dict_keys(['name', 'model', 'year'])\n",
      "dict_values(['BMW', '330', '2012'])\n",
      "dict_items([('name', 'BMW'), ('model', '330'), ('year', '2012')])\n"
     ]
    }
   ],
   "source": [
    "print(dict_a.keys())\n",
    "print(dict_a.values())\n",
    "print(dict_a.items())"
   ]
  },
  {
   "cell_type": "code",
   "execution_count": 48,
   "metadata": {},
   "outputs": [
    {
     "name": "stdout",
     "output_type": "stream",
     "text": [
      "2012\n"
     ]
    }
   ],
   "source": [
    "print(dict_a['year'])"
   ]
  },
  {
   "cell_type": "code",
   "execution_count": 35,
   "metadata": {},
   "outputs": [
    {
     "name": "stdout",
     "output_type": "stream",
     "text": [
      "{'name': 'BMW', 'year': '2013', 'color': 'black'}\n"
     ]
    }
   ],
   "source": [
    "## change current ones\n",
    "dict_a['year'] = '2013'\n",
    "print(dict_a)"
   ]
  },
  {
   "cell_type": "code",
   "execution_count": 33,
   "metadata": {},
   "outputs": [
    {
     "name": "stdout",
     "output_type": "stream",
     "text": [
      "{'name': 'BMW', 'model': '330', 'year': '2012', 'color': 'black'}\n"
     ]
    }
   ],
   "source": [
    "## new ones\n",
    "dict_a['color'] = 'black'\n",
    "print(dict_a)"
   ]
  },
  {
   "cell_type": "code",
   "execution_count": 34,
   "metadata": {},
   "outputs": [
    {
     "name": "stdout",
     "output_type": "stream",
     "text": [
      "{'name': 'BMW', 'year': '2012', 'color': 'black'}\n"
     ]
    }
   ],
   "source": [
    "## delete\n",
    "del dict_a['model']\n",
    "print(dict_a)"
   ]
  },
  {
   "cell_type": "markdown",
   "metadata": {},
   "source": [
    "### 3.4 Python Sets"
   ]
  },
  {
   "cell_type": "code",
   "execution_count": 37,
   "metadata": {},
   "outputs": [
    {
     "name": "stdout",
     "output_type": "stream",
     "text": [
      "{'apple'}\n",
      "set()\n"
     ]
    }
   ],
   "source": [
    "# Python Sets can be also viewed as Python Dicts\n",
    "# Just like its name, a Python set is unordered and do not allow duplicates\n",
    "\n",
    "set_a = set() # or set_a = {}\n",
    "\n",
    "set_a.add(\"apple\")\n",
    "print(set_a)\n",
    "set_a.remove('apple')\n",
    "print(set_a)"
   ]
  },
  {
   "cell_type": "markdown",
   "metadata": {},
   "source": [
    "## 4. Conditions and Loops"
   ]
  },
  {
   "cell_type": "markdown",
   "metadata": {},
   "source": [
    "### 4.1 if...else... "
   ]
  },
  {
   "cell_type": "code",
   "execution_count": 39,
   "metadata": {},
   "outputs": [
    {
     "name": "stdout",
     "output_type": "stream",
     "text": [
      "True!\n"
     ]
    }
   ],
   "source": [
    "# Eg: tell whether a number is bigger than 0 and odd.\n",
    "\n",
    "num = 127\n",
    "\n",
    "if num <= 0:\n",
    "    print('False! Num is negative.')\n",
    "else:\n",
    "    if num % 2 == 0:\n",
    "        print(\"False! Num is even.\")\n",
    "    else:\n",
    "        print(\"True!\")"
   ]
  },
  {
   "cell_type": "code",
   "execution_count": 56,
   "metadata": {},
   "outputs": [
    {
     "name": "stdout",
     "output_type": "stream",
     "text": [
      "False! Num is even.\n"
     ]
    }
   ],
   "source": [
    "# Works, but we can make it cleaner\n",
    "\n",
    "num  = 128\n",
    "\n",
    "if num <= 0:\n",
    "    print('False! Num is negative.')\n",
    "elif num % 2 == 0:\n",
    "    print(\"False! Num is even.\")\n",
    "else:\n",
    "    print(\"True!\")"
   ]
  },
  {
   "cell_type": "code",
   "execution_count": 40,
   "metadata": {},
   "outputs": [
    {
     "name": "stdout",
     "output_type": "stream",
     "text": [
      "False! Num is even.\n"
     ]
    }
   ],
   "source": [
    "# Or we can be more Pythonic...\n",
    "\n",
    "num = 128\n",
    "print(\"False! Num is negative.\") if num <= 0 else (print(\"False! Num is even.\") if num % 2 == 0 else print(\"True\"))"
   ]
  },
  {
   "cell_type": "markdown",
   "metadata": {},
   "source": [
    "### 4.2 for loop"
   ]
  },
  {
   "cell_type": "code",
   "execution_count": 41,
   "metadata": {
    "scrolled": true
   },
   "outputs": [
    {
     "name": "stdout",
     "output_type": "stream",
     "text": [
      "range(0, 9)\n",
      "1\n",
      "2\n",
      "3\n",
      "4\n",
      "6\n",
      "7\n",
      "4\n",
      "3\n",
      "2\n"
     ]
    }
   ],
   "source": [
    "# How to loop a list?\n",
    "eg_list = [1,2,3,4,6,7,4,3,2]\n",
    "\n",
    "print(range(len(eg_list)))\n",
    "\n",
    "for index in range(len(eg_list)):\n",
    "    print(eg_list[index])"
   ]
  },
  {
   "cell_type": "code",
   "execution_count": 42,
   "metadata": {
    "scrolled": true
   },
   "outputs": [
    {
     "name": "stdout",
     "output_type": "stream",
     "text": [
      "1\n",
      "2\n",
      "3\n",
      "4\n",
      "6\n",
      "7\n",
      "4\n",
      "3\n",
      "2\n"
     ]
    }
   ],
   "source": [
    "# Works, but more Pythonic!\n",
    "for num in eg_list:\n",
    "    print(num)"
   ]
  },
  {
   "cell_type": "code",
   "execution_count": 43,
   "metadata": {},
   "outputs": [
    {
     "name": "stdout",
     "output_type": "stream",
     "text": [
      "[9, 6]\n"
     ]
    }
   ],
   "source": [
    "# Eg. Given a positive list without duplicates, give me the biggest element and its index\n",
    "\n",
    "a_list = [1,3,5,6,7,2,9]\n",
    "\n",
    "max_ele = [0, 0] # The first one is to store biggest value and the second one is to store the index\n",
    "\n",
    "for index in range(len(a_list)):\n",
    "    if a_list[index] > max_ele[0]:\n",
    "        max_ele[0] = a_list[index]\n",
    "        max_ele[1] = index\n",
    "\n",
    "print(max_ele)"
   ]
  },
  {
   "cell_type": "code",
   "execution_count": 68,
   "metadata": {},
   "outputs": [
    {
     "name": "stdout",
     "output_type": "stream",
     "text": [
      "[9, 6]\n"
     ]
    }
   ],
   "source": [
    "# Works, but more Pythonic!\n",
    "max_ele = [max(a_list), a_list.index(max(a_list))]\n",
    "\n",
    "print(max_ele)"
   ]
  },
  {
   "cell_type": "markdown",
   "metadata": {},
   "source": [
    "### 4.3 while loop"
   ]
  },
  {
   "cell_type": "code",
   "execution_count": 44,
   "metadata": {},
   "outputs": [
    {
     "name": "stdout",
     "output_type": "stream",
     "text": [
      "125250\n"
     ]
    }
   ],
   "source": [
    "# Eg: We need the total sum from 1 to 500\n",
    "current_num = 1\n",
    "total_sum = 0\n",
    "\n",
    "while current_num <= 500: # since we still need to calculate the sum when current EQUALS to 500\n",
    "    total_sum = total_sum + current_num\n",
    "    current_num = current_num + 1\n",
    "    # total_sum += current_num\n",
    "    # current_num += 1\n",
    "\n",
    "print(total_sum)"
   ]
  },
  {
   "cell_type": "code",
   "execution_count": 72,
   "metadata": {},
   "outputs": [
    {
     "name": "stdout",
     "output_type": "stream",
     "text": [
      "125250\n"
     ]
    }
   ],
   "source": [
    "# More Pythonic!\n",
    "print(sum(range(1,501)))"
   ]
  },
  {
   "cell_type": "markdown",
   "metadata": {},
   "source": [
    "### 4.4 break & continue"
   ]
  },
  {
   "cell_type": "code",
   "execution_count": 45,
   "metadata": {},
   "outputs": [
    {
     "name": "stdout",
     "output_type": "stream",
     "text": [
      "Get the first element bigger than 5! It is 6.\n"
     ]
    }
   ],
   "source": [
    "# Eg: Find the first element that is bigger than 5\n",
    "\n",
    "a_list = [1,3,5,6,7,2,9]\n",
    "\n",
    "for num in a_list:\n",
    "    if num <= 5:\n",
    "        continue # do nothing, continue the for loop.\n",
    "    else:\n",
    "        print(\"Get the first element bigger than 5! It is \" + str(num) + \".\")\n",
    "        break # we have found the element, so terminate the for loop."
   ]
  },
  {
   "cell_type": "markdown",
   "metadata": {},
   "source": [
    "## 5. Python Functions"
   ]
  },
  {
   "cell_type": "code",
   "execution_count": 47,
   "metadata": {},
   "outputs": [
    {
     "name": "stdout",
     "output_type": "stream",
     "text": [
      "True\n"
     ]
    },
    {
     "ename": "NameError",
     "evalue": "name 'type1' is not defined",
     "output_type": "error",
     "traceback": [
      "\u001b[0;31m---------------------------------------------------------------------------\u001b[0m",
      "\u001b[0;31mNameError\u001b[0m                                 Traceback (most recent call last)",
      "\u001b[0;32m<ipython-input-47-10fece36ac31>\u001b[0m in \u001b[0;36m<module>\u001b[0;34m\u001b[0m\n\u001b[1;32m     19\u001b[0m \u001b[0;34m\u001b[0m\u001b[0m\n\u001b[1;32m     20\u001b[0m \u001b[0;31m# Here is the genral structure of a Python function:\u001b[0m\u001b[0;34m\u001b[0m\u001b[0;34m\u001b[0m\u001b[0;34m\u001b[0m\u001b[0m\n\u001b[0;32m---> 21\u001b[0;31m \u001b[0;32mdef\u001b[0m \u001b[0mfunction_name\u001b[0m\u001b[0;34m(\u001b[0m\u001b[0mparam1\u001b[0m\u001b[0;34m:\u001b[0m\u001b[0mtype1\u001b[0m\u001b[0;34m,\u001b[0m \u001b[0mparam2\u001b[0m\u001b[0;34m:\u001b[0m\u001b[0mtype2\u001b[0m\u001b[0;34m,\u001b[0m \u001b[0mparam3\u001b[0m\u001b[0;34m:\u001b[0m\u001b[0mtype3\u001b[0m\u001b[0;34m)\u001b[0m \u001b[0;34m->\u001b[0m \u001b[0mreturntype\u001b[0m\u001b[0;34m:\u001b[0m\u001b[0;34m\u001b[0m\u001b[0;34m\u001b[0m\u001b[0m\n\u001b[0m\u001b[1;32m     22\u001b[0m     '''\n\u001b[1;32m     23\u001b[0m     \u001b[0mparam1\u001b[0m\u001b[0;34m:\u001b[0m \u001b[0mintro\u001b[0m\u001b[0;34m\u001b[0m\u001b[0;34m\u001b[0m\u001b[0m\n",
      "\u001b[0;31mNameError\u001b[0m: name 'type1' is not defined"
     ]
    }
   ],
   "source": [
    "# Eg. Tell me whether some element exsits in a list\n",
    "\n",
    "a_list = [1,3,5,6,7,2,9]\n",
    "element = 2\n",
    "\n",
    "def findElement(some_list:list, some_element:int) -> bool:\n",
    "    \"\"\"\n",
    "    some_list: the list we need to operate\n",
    "    some_element: the element we need to search\n",
    "    return: bool, whether one element exists in the list\n",
    "    \"\"\"\n",
    "    for num in some_list:\n",
    "        if num == some_element:\n",
    "            return True\n",
    "    \n",
    "    return False\n",
    "\n",
    "print(findElement(some_list=a_list, some_element=element))\n",
    "\n",
    "# Here is the genral structure of a Python function:\n",
    "def function_name(param1:type1, param2:type2, param3:type3) -> returntype:\n",
    "    '''\n",
    "    param1: intro\n",
    "    param2: intro\n",
    "    param3: intro\n",
    "    return: intro\n",
    "    '''\n",
    "    ... # some operations you need\n",
    "    return ... # the result you need\n",
    "\n",
    "# Since Python does not strictly require the in&out type of one function,\n",
    "# We still need to keep good coding habits: making comments! And always keep the types in your mind!"
   ]
  },
  {
   "cell_type": "code",
   "execution_count": 48,
   "metadata": {},
   "outputs": [
    {
     "name": "stdout",
     "output_type": "stream",
     "text": [
      "True\n"
     ]
    }
   ],
   "source": [
    "# More Pythonic?\n",
    "def findEle(some_list, some_element):\n",
    "    return some_element in some_list\n",
    "\n",
    "print(findEle(a_list, element))"
   ]
  },
  {
   "cell_type": "markdown",
   "metadata": {},
   "source": [
    "## 6. Python Packages"
   ]
  },
  {
   "cell_type": "code",
   "execution_count": 82,
   "metadata": {},
   "outputs": [],
   "source": [
    "import numpy as np\n",
    "from sklearn import linear_model"
   ]
  },
  {
   "cell_type": "code",
   "execution_count": 84,
   "metadata": {},
   "outputs": [
    {
     "name": "stdout",
     "output_type": "stream",
     "text": [
      "inf\n"
     ]
    }
   ],
   "source": [
    "print(np.inf)"
   ]
  },
  {
   "cell_type": "code",
   "execution_count": 86,
   "metadata": {},
   "outputs": [
    {
     "name": "stdout",
     "output_type": "stream",
     "text": [
      "<class 'sklearn.linear_model._base.LinearRegression'>\n"
     ]
    }
   ],
   "source": [
    "reg = linear_model.LinearRegression()\n",
    "print(type(reg))"
   ]
  },
  {
   "cell_type": "markdown",
   "metadata": {},
   "source": [
    "## 7. Python Classes"
   ]
  },
  {
   "cell_type": "code",
   "execution_count": 50,
   "metadata": {},
   "outputs": [],
   "source": [
    "# This course might not require this part,\n",
    "# However, you can understand Python better if you choose to breifly learn it.\n",
    "# Python also supports OOP, which is object oriented programming\n",
    "\n",
    "# Say we need a car, which obviously has attributes like color, brand, model, year...\n",
    "class Car(object):\n",
    "    def __init__(self, color, brand, model, year, gas, gas_consumption):\n",
    "        self.color = color\n",
    "        self.brand = brand\n",
    "        self.model = model\n",
    "        self.year = year\n",
    "        self.gas = gas\n",
    "        self.gas_consumption = gas_consumption\n",
    "    \n",
    "    def run(self, time): # get this car run for some time\n",
    "        if self.gas == 0:\n",
    "            return \"Oops, no gas!\"\n",
    "        \n",
    "        estimated_gas = time * self.gas_consumption\n",
    "        \n",
    "        if self.gas < estimated_gas:\n",
    "            estimated_runtime = self.gas // self.gas_consumption\n",
    "            return \"Oops, the car cannot run so long, estimated time is \" + str(estimated_runtime) + \" hours!\"\n",
    "        \n",
    "        self.gas -= estimated_gas\n",
    "        return \"Alright, start running!\"\n",
    "        "
   ]
  },
  {
   "cell_type": "code",
   "execution_count": 51,
   "metadata": {},
   "outputs": [],
   "source": [
    "car = Car(color='yellow',brand='BMW',model='330',year='2012', gas=100, gas_consumption=10)"
   ]
  },
  {
   "cell_type": "code",
   "execution_count": 55,
   "metadata": {},
   "outputs": [
    {
     "data": {
      "text/plain": [
       "'Oops, the car cannot run so long, estimated time is 7 hours!'"
      ]
     },
     "execution_count": 55,
     "metadata": {},
     "output_type": "execute_result"
    }
   ],
   "source": [
    "car.run(time=8)"
   ]
  },
  {
   "cell_type": "code",
   "execution_count": null,
   "metadata": {},
   "outputs": [],
   "source": []
  }
 ],
 "metadata": {
  "kernelspec": {
   "display_name": "Python 3",
   "language": "python",
   "name": "python3"
  },
  "language_info": {
   "codemirror_mode": {
    "name": "ipython",
    "version": 3
   },
   "file_extension": ".py",
   "mimetype": "text/x-python",
   "name": "python",
   "nbconvert_exporter": "python",
   "pygments_lexer": "ipython3",
   "version": "3.7.9"
  }
 },
 "nbformat": 4,
 "nbformat_minor": 4
}
